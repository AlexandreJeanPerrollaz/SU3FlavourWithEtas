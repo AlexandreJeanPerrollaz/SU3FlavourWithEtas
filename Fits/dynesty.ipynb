{
 "cells": [
  {
   "cell_type": "code",
   "execution_count": 1,
   "metadata": {},
   "outputs": [],
   "source": [
    "%reload_ext autoreload\n",
    "%autoreload 2\n",
    "\n",
    "import numpy as numpy\n",
    "import matplotlib.pyplot as plt\n",
    "import os\n",
    "import multiprocessing as mp\n",
    "from multiprocessing import Pool\n",
    "import dynesty\n",
    "from dynesty import plotting as dyplot\n",
    "from chi2_functions import *"
   ]
  },
  {
   "cell_type": "code",
   "execution_count": 2,
   "metadata": {},
   "outputs": [],
   "source": [
    "def prior_transform(u):\n",
    "  u_ampT8X8, u_ampC8X8, u_ampPuc8X8, u_ampA8X8, u_ampPAuc8X8, u_ampPtc8X8, u_ampPAtc8X8,\\\n",
    "  u_delC8X8, u_delPuc8X8, u_delA8X8, u_delPAuc8X8, u_delPtc8X8, u_delPAtc8X8,\\\n",
    "  u_ampT8X1, u_ampC8X1, u_ampPuc8X1, u_ampPtc8X1,\\\n",
    "  u_delT8X1, u_delC8X1, u_delPuc8X1, u_delPtc8X1,\\\n",
    "  u_ampC1X1, u_ampPtc1X1,\\\n",
    "  u_delC1X1, u_delPtc1X1 = u\n",
    "\n",
    "  ampT8X8 = 5 + 5*u_ampT8X8\n",
    "  ampC8X8 = 5 + 5*u_ampC8X8\n",
    "  ampPuc8X8 = 5 + 5*u_ampPuc8X8\n",
    "  ampA8X8 = 5 + 5*u_ampA8X8\n",
    "  ampPAuc8X8 = 5 + 5*u_ampPAuc8X8\n",
    "  ampPtc8X8 = 5 + 5*u_ampPtc8X8\n",
    "  ampPAtc8X8 = 5 + 5*u_ampPAtc8X8\n",
    "\n",
    "  delC8X8 = 2*np.pi*u_delC8X8\n",
    "  delPuc8X8 = 2*np.pi*u_delPuc8X8\n",
    "  delA8X8 = 2*np.pi*u_delA8X8\n",
    "  delPAuc8X8 = 2*np.pi*u_delPAuc8X8\n",
    "  delPtc8X8 = 2*np.pi*u_delPtc8X8\n",
    "  delPAtc8X8 = 2*np.pi*u_delPAtc8X8\n",
    "\n",
    "  ampT8X1 = 5 + 5*u_ampT8X1\n",
    "  ampC8X1 = 5 + 5*u_ampC8X1\n",
    "  ampPuc8X1 = 5 + 5*u_ampPuc8X1\n",
    "  ampPtc8X1 = 5 + 5*u_ampPtc8X1\n",
    "\n",
    "  delT8X1 = 2*np.pi*u_delT8X1\n",
    "  delC8X1 = 2*np.pi*u_delC8X1\n",
    "  delPuc8X1 = 2*np.pi*u_delPuc8X1\n",
    "  delPtc8X1 = 2*np.pi*u_delPtc8X1\n",
    "\n",
    "  ampC1X1 = 5 + 5*u_ampC1X1\n",
    "  ampPtc1X1 = 5 + 5*u_ampPtc1X1\n",
    "  \n",
    "  delC1X1 = 2*np.pi*u_delC1X1\n",
    "  delPtc1X1 = 2*np.pi*u_delPtc1X1\n",
    "\n",
    "  return np.array([ampT8X8, ampC8X8, ampPuc8X8, ampA8X8, ampPAuc8X8, ampPtc8X8, ampPAtc8X8,\\\n",
    "          delC8X8, delPuc8X8, delA8X8, delPAuc8X8, delPtc8X8, delPAtc8X8,\\\n",
    "          ampT8X1, ampC8X1, ampPuc8X1, ampPtc8X1,\\\n",
    "          delT8X1, delC8X1, delPuc8X1, delPtc8X1,\\\n",
    "          ampC1X1, ampPtc1X1,\\\n",
    "          delC1X1, delPtc1X1])"
   ]
  },
  {
   "cell_type": "code",
   "execution_count": 12,
   "metadata": {},
   "outputs": [
    {
     "data": {
      "text/plain": [
       "np.float64(-34918264.63229333)"
      ]
     },
     "execution_count": 12,
     "metadata": {},
     "output_type": "execute_result"
    }
   ],
   "source": [
    "u = np.random.uniform(0,1,25)\n",
    "d = prior_transform(u)\n",
    "chi2(d)"
   ]
  },
  {
   "cell_type": "code",
   "execution_count": null,
   "metadata": {},
   "outputs": [],
   "source": [
    "ndim  = 25\n",
    "nlive = 500\n",
    "\n",
    "# Run and Save Dynesty\n",
    "\n",
    "nworkers = os.cpu_count()\n",
    "pool     = Pool(nworkers)\n",
    "sampler  = dynesty.DynamicNestedSampler(chi2,\n",
    "                                        prior_transform, \n",
    "                                        sample='rslice',\n",
    "                                        ndim=ndim, \n",
    "                                        nlive=nlive,\n",
    "                                        bound='multi',\n",
    "                                        pool=pool, \n",
    "                                        queue_size=nworkers)\n",
    "sampler.run_nested()\n",
    "pool.close()\n",
    "pool.join()\n",
    "results = sampler.results"
   ]
  },
  {
   "cell_type": "code",
   "execution_count": null,
   "metadata": {},
   "outputs": [],
   "source": [
    "nthreads = 1 #os.cpu_count()\n",
    "ndim = 25\n",
    "nlive = 500\n",
    "with mp.Pool(nthreads) as poo:\n",
    "    dns = dynesty.DynamicNestedSampler(chi2,\n",
    "                                    prior_transform,\n",
    "                                    ndim = ndim,\n",
    "                                    nlive=nlive,\n",
    "                                    sample='rslice',\n",
    "                                    pool=poo,\n",
    "                                    queue_size=nthreads * 2)\n",
    "    dns.run_nested(n_effective=10000)\n",
    "    \n",
    "res = dns.results"
   ]
  },
  {
   "cell_type": "code",
   "execution_count": 3,
   "metadata": {},
   "outputs": [
    {
     "name": "stdout",
     "output_type": "stream",
     "text": [
      "16\n"
     ]
    }
   ],
   "source": [
    "print(os.cpu_count())"
   ]
  },
  {
   "cell_type": "code",
   "execution_count": null,
   "metadata": {},
   "outputs": [],
   "source": []
  }
 ],
 "metadata": {
  "kernelspec": {
   "display_name": "su3flavour",
   "language": "python",
   "name": "python3"
  },
  "language_info": {
   "codemirror_mode": {
    "name": "ipython",
    "version": 3
   },
   "file_extension": ".py",
   "mimetype": "text/x-python",
   "name": "python",
   "nbconvert_exporter": "python",
   "pygments_lexer": "ipython3",
   "version": "3.10.16"
  }
 },
 "nbformat": 4,
 "nbformat_minor": 2
}
