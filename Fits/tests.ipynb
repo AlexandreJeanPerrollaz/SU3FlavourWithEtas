{
 "cells": [
  {
   "cell_type": "code",
   "execution_count": 18,
   "metadata": {},
   "outputs": [],
   "source": [
    "import numpy as np\n",
    "from chi2_functions import chi2, chi2Printed, oldchi2\n",
    "%reload_ext autoreload\n",
    "%autoreload 2"
   ]
  },
  {
   "cell_type": "code",
   "execution_count": 16,
   "metadata": {},
   "outputs": [],
   "source": [
    "param_old = [1,1,1,1,1,1,1,1,1,1,1,1,1]\n",
    "param_new = np.array([1,1,1,1,1,1,1,1,1,1,1,1,1,0,0,0,0,0,0,0,0,0,0,0,0])"
   ]
  },
  {
   "cell_type": "code",
   "execution_count": 27,
   "metadata": {},
   "outputs": [
    {
     "name": "stdout",
     "output_type": "stream",
     "text": [
      "(0.010068038348465883+0.016236076947293888j)\n",
      "-0.8077950605079708 -0.716944632773474 -0.7297799259307767 0.046803708524263785\n",
      "(0.01013086904460617+0.016280554012052275j)\n",
      "-0.8087161505369281 -0.7147629411070388 -0.7297799259307767 0.04690745217556233\n"
     ]
    },
    {
     "data": {
      "text/plain": [
       "np.float64(28901.130744587837)"
      ]
     },
     "execution_count": 27,
     "metadata": {},
     "output_type": "execute_result"
    }
   ],
   "source": [
    "chi2Printed(param_new)\n",
    "oldchi2(1,1,1,1,1,1,1,1,1,1,1,1,1)"
   ]
  },
  {
   "cell_type": "code",
   "execution_count": null,
   "metadata": {},
   "outputs": [],
   "source": []
  }
 ],
 "metadata": {
  "kernelspec": {
   "display_name": "su3flavour",
   "language": "python",
   "name": "python3"
  },
  "language_info": {
   "codemirror_mode": {
    "name": "ipython",
    "version": 3
   },
   "file_extension": ".py",
   "mimetype": "text/x-python",
   "name": "python",
   "nbconvert_exporter": "python",
   "pygments_lexer": "ipython3",
   "version": "3.10.16"
  }
 },
 "nbformat": 4,
 "nbformat_minor": 2
}
