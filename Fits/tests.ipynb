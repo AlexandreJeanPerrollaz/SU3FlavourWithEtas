{
 "cells": [
  {
   "cell_type": "code",
   "execution_count": 4,
   "metadata": {},
   "outputs": [],
   "source": [
    "import numpy as np\n",
    "from chi2_functions import chi2, chi2Printed, oldchi2,chi2Minuit,chi2MinuitPrint\n",
    "%reload_ext autoreload\n",
    "%autoreload 2"
   ]
  },
  {
   "cell_type": "code",
   "execution_count": 16,
   "metadata": {},
   "outputs": [],
   "source": [
    "param_old = [1,1,1,1,1,1,1,1,1,1,1,1,1]\n",
    "param_new = np.array([1,1,1,1,1,1,1,1,1,1,1,1,1,0,0,0,0,0,0,0,0,0,0,0,0])"
   ]
  },
  {
   "cell_type": "code",
   "execution_count": 27,
   "metadata": {},
   "outputs": [
    {
     "name": "stdout",
     "output_type": "stream",
     "text": [
      "(0.010068038348465883+0.016236076947293888j)\n",
      "-0.8077950605079708 -0.716944632773474 -0.7297799259307767 0.046803708524263785\n",
      "(0.01013086904460617+0.016280554012052275j)\n",
      "-0.8087161505369281 -0.7147629411070388 -0.7297799259307767 0.04690745217556233\n"
     ]
    },
    {
     "data": {
      "text/plain": [
       "np.float64(28901.130744587837)"
      ]
     },
     "execution_count": 27,
     "metadata": {},
     "output_type": "execute_result"
    }
   ],
   "source": [
    "chi2Printed(param_new)\n",
    "oldchi2(1,1,1,1,1,1,1,1,1,1,1,1,1)"
   ]
  },
  {
   "cell_type": "code",
   "execution_count": 8,
   "metadata": {},
   "outputs": [
    {
     "name": "stdout",
     "output_type": "stream",
     "text": [
      "chi2 BR BpK0bKp =  0.9790601058543724\n",
      "chi2 BR BpP0Pp =  0.05305586316789826\n",
      "chi2 BR BpEPp =  1.4451357023663418\n",
      "chi2 BR BpEpPp =  0.0052084714857817925\n",
      "chi2 BR B0K0K0b =  0.03978875190650021\n",
      "chi2 BR B0PpPm =  1.7703012101326214\n",
      "chi2 BR B0KpKm =  0.19201527084557649\n",
      "chi2 BR B0P0P0 =  0.22059540855553922\n",
      "chi2 BR B0P0E =  7.030398467104597\n",
      "chi2 BR B0P0Ep =  0.06234343893568051\n",
      "chi2 BR B0EE =  6.610847801798719\n",
      "chi2 BR B0EpEp =  1.7383618248514907\n",
      "chi2 BR B0sPpKm =  1.5821986347894361\n",
      "chi2 BR BpPpK0 =  0.12375305469024701\n",
      "chi2 BR BpP0Kp =  0.8997245705788164\n",
      "chi2 BR BpEKp =  2.3140884245541105\n",
      "chi2 BR BpEpKp =  3.4002323268756647\n",
      "chi2 BR B0PmKp =  1.277598025041445\n",
      "chi2 BR B0P0K0 =  2.67270805557665\n",
      "chi2 BR B0EK0 =  8.304782173610317\n",
      "chi2 BR B0EpK0 =  74.60175574205265\n",
      "chi2 BR B0sK0K0b =  1.4515491688884037\n",
      "chi2 BR B0sPpPm =  0.08720978150603048\n",
      "chi2 BR B0sKpKm =  9.343535521972992\n",
      "chi2 BR B0sP0P0 =  0.7685874484853495\n",
      "chi2 BR B0sEE =  0.8428040074552112\n",
      "chi2 BR B0sEEp =  0.0066014736109647285\n",
      "chi2 BR B0sEpEp =  5.654765426432774\n",
      "chi2 ACP BpK0bKp =  0.3267777063646501\n",
      "chi2 ACP BpP0Pp =  0.0625\n",
      "chi2 ACP BpEPp =  0.9846028065810115\n",
      "chi2 ACP BpEpPp =  0.006767884877074862\n",
      "chi2 ACP B0K0K0b =  0.011949556683108039\n",
      "chi2 ACP B0PpPm =  3.2654445500349536\n",
      "chi2 ACP B0P0P0 =  0.7432454610578861\n",
      "chi2 ACP B0sPpKm =  1.1077855649870392\n",
      "chi2 ACP BpPpK0 =  0.11126692798462563\n",
      "chi2 ACP BpP0Kp =  0.1773805410022095\n",
      "chi2 ACP BpEKp =  0.6651627399767595\n",
      "chi2 ACP BpEpKp =  0.0016215954243715398\n",
      "chi2 ACP B0PmKp =  1.275618264901303\n",
      "chi2 ACP B0P0K0 =  1.6978088317902011\n",
      "chi2 ACP B0EpK0 =  0.04650689568525515\n",
      "chi2 ACP B0sKpKm =  2.8396397364731616\n",
      "chi2 SCP B0K0K0b =  16.718109082566585\n",
      "chi2 SCP B0PpPm =  0.5326848178135687\n",
      "chi2 SCP B0P0K0 =  1.186008914410617\n",
      "chi2 SCP B0sKpKm =  0.8488614066413973\n",
      "chi2 SCP B0EpK0 =  5.557657912557194\n",
      "\n",
      "BR B0EpK0 = 3.1451076834829685e-05\n"
     ]
    },
    {
     "data": {
      "text/plain": [
       "171.64640735093917"
      ]
     },
     "execution_count": 8,
     "metadata": {},
     "output_type": "execute_result"
    }
   ],
   "source": [
    "chi = chi2MinuitPrint(7.8569214178921545, 2.964587305476751, 1.2840062459037962, -0.7171555714811257, -0.6934906631121562, 1.1948318041641748, 0.21252492015372643, -1.308072984010442, 2.4264322228523243, 23.10442669269299, 3.316381519384654, 6.069681711577786, 4.366029709369994, 85.6363090500121, 87.10385747287914, 1.9556313737459006, 1.6925025016031692, 2.6114878685717198, -0.5333400067910434, -0.3716466194642538, -0.5024064557304576, -64682.61415498706, 584.2827844014971, 26.646691597360544, -71.15442023795084)\n",
    "chi"
   ]
  },
  {
   "cell_type": "code",
   "execution_count": null,
   "metadata": {},
   "outputs": [],
   "source": []
  }
 ],
 "metadata": {
  "kernelspec": {
   "display_name": "su3flavour",
   "language": "python",
   "name": "python3"
  },
  "language_info": {
   "codemirror_mode": {
    "name": "ipython",
    "version": 3
   },
   "file_extension": ".py",
   "mimetype": "text/x-python",
   "name": "python",
   "nbconvert_exporter": "python",
   "pygments_lexer": "ipython3",
   "version": "3.10.16"
  }
 },
 "nbformat": 4,
 "nbformat_minor": 2
}
