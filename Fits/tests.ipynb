{
 "cells": [
  {
   "cell_type": "code",
   "execution_count": 9,
   "metadata": {},
   "outputs": [],
   "source": [
    "import numpy as np\n",
    "from chi2_functions import chi2, chi2Printed, oldchi2,chi2Minuit,chi2MinuitPrint\n",
    "%reload_ext autoreload\n",
    "%autoreload 2"
   ]
  },
  {
   "cell_type": "code",
   "execution_count": 16,
   "metadata": {},
   "outputs": [],
   "source": [
    "param_old = [1,1,1,1,1,1,1,1,1,1,1,1,1]\n",
    "param_new = np.array([1,1,1,1,1,1,1,1,1,1,1,1,1,0,0,0,0,0,0,0,0,0,0,0,0])"
   ]
  },
  {
   "cell_type": "code",
   "execution_count": 27,
   "metadata": {},
   "outputs": [
    {
     "name": "stdout",
     "output_type": "stream",
     "text": [
      "(0.010068038348465883+0.016236076947293888j)\n",
      "-0.8077950605079708 -0.716944632773474 -0.7297799259307767 0.046803708524263785\n",
      "(0.01013086904460617+0.016280554012052275j)\n",
      "-0.8087161505369281 -0.7147629411070388 -0.7297799259307767 0.04690745217556233\n"
     ]
    },
    {
     "data": {
      "text/plain": [
       "np.float64(28901.130744587837)"
      ]
     },
     "execution_count": 27,
     "metadata": {},
     "output_type": "execute_result"
    }
   ],
   "source": [
    "chi2Printed(param_new)\n",
    "oldchi2(1,1,1,1,1,1,1,1,1,1,1,1,1)"
   ]
  },
  {
   "cell_type": "code",
   "execution_count": 10,
   "metadata": {},
   "outputs": [
    {
     "name": "stdout",
     "output_type": "stream",
     "text": [
      "chi2 BR BpK0bKp =  0.03556296853267743\n",
      "chi2 BR BpP0Pp =  0.010181709165554196\n",
      "chi2 BR BpEPp =  0.647223537267594\n",
      "chi2 BR BpEpPp =  1.9378170275214954\n",
      "chi2 BR B0K0K0b =  0.9852357922358012\n",
      "chi2 BR B0PpPm =  2.8608980182238777\n",
      "chi2 BR B0KpKm =  0.20131599925564317\n",
      "chi2 BR B0P0P0 =  0.18450815089950906\n",
      "chi2 BR B0P0E =  5.58475810143171\n",
      "chi2 BR B0P0Ep =  0.08856935271283192\n",
      "chi2 BR B0EE =  61.62982002200487\n",
      "chi2 BR B0EpEp =  2.113060598029988\n",
      "chi2 BR B0sPpKm =  1.7559539135815279\n",
      "chi2 BR BpPpK0 =  2.1037068109186015\n",
      "chi2 BR BpP0Kp =  3.4824915894406048\n",
      "chi2 BR BpEKp =  0.9571811140276159\n",
      "chi2 BR BpEpKp =  0.007862615107732018\n",
      "chi2 BR B0PmKp =  4.719075076670652\n",
      "chi2 BR B0P0K0 =  1.262185487019022\n",
      "chi2 BR B0EK0 =  0.5390966083848788\n",
      "chi2 BR B0EpK0 =  0.4180589234840924\n",
      "chi2 BR B0sK0K0b =  1.7855499896752527\n",
      "chi2 BR B0sPpPm =  0.027862955398517134\n",
      "chi2 BR B0sKpKm =  6.927305504121018\n",
      "chi2 BR B0sP0P0 =  0.7645723788037396\n",
      "chi2 BR B0sEE =  0.8587882597570317\n",
      "chi2 BR B0sEEp =  0.3762740556226218\n",
      "chi2 BR B0sEpEp =  3.7444973993863355\n",
      "chi2 ACP BpK0bKp =  8.962226424746232e-05\n",
      "chi2 ACP BpP0Pp =  0.06250000000000239\n",
      "chi2 ACP BpEPp =  0.12961110006617546\n",
      "chi2 ACP BpEpPp =  0.2526259392464546\n",
      "chi2 ACP B0K0K0b =  0.11542416846722507\n",
      "chi2 ACP B0PpPm =  3.2017050827761997\n",
      "chi2 ACP B0P0P0 =  0.9656951053580055\n",
      "chi2 ACP B0sPpKm =  2.1446687253897183\n",
      "chi2 ACP BpPpK0 =  0.001988225343297855\n",
      "chi2 ACP BpP0Kp =  0.15924930087207417\n",
      "chi2 ACP BpEKp =  0.005922002764749929\n",
      "chi2 ACP BpEpKp =  0.5531587487910798\n",
      "chi2 ACP B0PmKp =  0.8801494889597226\n",
      "chi2 ACP B0P0K0 =  1.784003683219259\n",
      "chi2 ACP B0EpK0 =  0.1130079185349162\n",
      "chi2 ACP B0sKpKm =  3.167025101626378\n",
      "chi2 SCP B0K0K0b =  1.3083836285409152\n",
      "chi2 SCP B0PpPm =  1.1273510587816198\n",
      "chi2 SCP B0P0K0 =  1.1613236841712615\n",
      "chi2 SCP B0sKpKm =  0.7147867222971547\n",
      "chi2 SCP B0EpK0 =  1.9607882004107586\n",
      "\n",
      "BR B0EpK0 = 6.341370095005519e-05\n"
     ]
    },
    {
     "data": {
      "text/plain": [
       "125.81887146656199"
      ]
     },
     "execution_count": 10,
     "metadata": {},
     "output_type": "execute_result"
    }
   ],
   "source": [
    "chi = chi2MinuitPrint(5.6,5.0,1.4,3.1,0.69,1.185,0.217,5.19,6.0,2.78,3.25,5.89,4.32,7,9,2.6,1.821,6.28,5.1,2.7,5.51,0,0,0,0)\n",
    "chi"
   ]
  },
  {
   "cell_type": "code",
   "execution_count": null,
   "metadata": {},
   "outputs": [],
   "source": []
  }
 ],
 "metadata": {
  "kernelspec": {
   "display_name": "su3flavour",
   "language": "python",
   "name": "python3"
  },
  "language_info": {
   "codemirror_mode": {
    "name": "ipython",
    "version": 3
   },
   "file_extension": ".py",
   "mimetype": "text/x-python",
   "name": "python",
   "nbconvert_exporter": "python",
   "pygments_lexer": "ipython3",
   "version": "3.10.16"
  }
 },
 "nbformat": 4,
 "nbformat_minor": 2
}
